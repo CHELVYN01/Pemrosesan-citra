{
  "nbformat": 4,
  "nbformat_minor": 0,
  "metadata": {
    "colab": {
      "provenance": [],
      "toc_visible": true,
      "mount_file_id": "15XKr7OGpfF9H2iwKCjkiYyC6rtZd41RZ",
      "authorship_tag": "ABX9TyNENQt/eZ2hGnGdkXFJyJy9",
      "include_colab_link": true
    },
    "kernelspec": {
      "name": "python3",
      "display_name": "Python 3"
    },
    "language_info": {
      "name": "python"
    }
  },
  "cells": [
    {
      "cell_type": "markdown",
      "metadata": {
        "id": "view-in-github",
        "colab_type": "text"
      },
      "source": [
        "<a href=\"https://colab.research.google.com/github/CHELVYN01/Pemrosesan-citra/blob/main/Sentimen%20analisis.ipynb\" target=\"_parent\"><img src=\"https://colab.research.google.com/assets/colab-badge.svg\" alt=\"Open In Colab\"/></a>"
      ]
    },
    {
      "cell_type": "markdown",
      "source": [
        "Pemrolehan Informasi\n",
        "Modul 3\n",
        "\n",
        "A. TUjuan\n",
        "- Mahasiswa mampu membuat program sederhana menggunakan  python.\n",
        "- Mahasiswa mengerti proses pengelolahan data  teks.\n",
        "- Mahasiswa mampu melakukan pengelolahan data teks menggunakan  pustaka nltk sastrawi ."
      ],
      "metadata": {
        "id": "WjkI8vzEH55Q"
      }
    },
    {
      "cell_type": "markdown",
      "source": [
        "B. Praktikum"
      ],
      "metadata": {
        "id": "YTLT9R3aIku3"
      }
    },
    {
      "cell_type": "code",
      "execution_count": null,
      "metadata": {
        "id": "SdPueV7cHtbm",
        "colab": {
          "base_uri": "https://localhost:8080/"
        },
        "outputId": "834a40a4-86a3-4c17-b02d-ab766ad8cf4d"
      },
      "outputs": [
        {
          "output_type": "stream",
          "name": "stderr",
          "text": [
            "[nltk_data] Downloading collection 'all'\n",
            "[nltk_data]    | \n",
            "[nltk_data]    | Downloading package abc to /root/nltk_data...\n",
            "[nltk_data]    |   Unzipping corpora/abc.zip.\n",
            "[nltk_data]    | Downloading package alpino to /root/nltk_data...\n",
            "[nltk_data]    |   Unzipping corpora/alpino.zip.\n",
            "[nltk_data]    | Downloading package averaged_perceptron_tagger to\n",
            "[nltk_data]    |     /root/nltk_data...\n",
            "[nltk_data]    |   Unzipping taggers/averaged_perceptron_tagger.zip.\n",
            "[nltk_data]    | Downloading package averaged_perceptron_tagger_ru to\n",
            "[nltk_data]    |     /root/nltk_data...\n",
            "[nltk_data]    |   Unzipping\n",
            "[nltk_data]    |       taggers/averaged_perceptron_tagger_ru.zip.\n",
            "[nltk_data]    | Downloading package basque_grammars to\n",
            "[nltk_data]    |     /root/nltk_data...\n",
            "[nltk_data]    |   Unzipping grammars/basque_grammars.zip.\n",
            "[nltk_data]    | Downloading package biocreative_ppi to\n",
            "[nltk_data]    |     /root/nltk_data...\n",
            "[nltk_data]    |   Unzipping corpora/biocreative_ppi.zip.\n",
            "[nltk_data]    | Downloading package bllip_wsj_no_aux to\n",
            "[nltk_data]    |     /root/nltk_data...\n",
            "[nltk_data]    |   Unzipping models/bllip_wsj_no_aux.zip.\n",
            "[nltk_data]    | Downloading package book_grammars to\n",
            "[nltk_data]    |     /root/nltk_data...\n",
            "[nltk_data]    |   Unzipping grammars/book_grammars.zip.\n",
            "[nltk_data]    | Downloading package brown to /root/nltk_data...\n",
            "[nltk_data]    |   Unzipping corpora/brown.zip.\n",
            "[nltk_data]    | Downloading package brown_tei to /root/nltk_data...\n",
            "[nltk_data]    |   Unzipping corpora/brown_tei.zip.\n",
            "[nltk_data]    | Downloading package cess_cat to /root/nltk_data...\n",
            "[nltk_data]    |   Unzipping corpora/cess_cat.zip.\n",
            "[nltk_data]    | Downloading package cess_esp to /root/nltk_data...\n",
            "[nltk_data]    |   Unzipping corpora/cess_esp.zip.\n",
            "[nltk_data]    | Downloading package chat80 to /root/nltk_data...\n",
            "[nltk_data]    |   Unzipping corpora/chat80.zip.\n",
            "[nltk_data]    | Downloading package city_database to\n",
            "[nltk_data]    |     /root/nltk_data...\n",
            "[nltk_data]    |   Unzipping corpora/city_database.zip.\n",
            "[nltk_data]    | Downloading package cmudict to /root/nltk_data...\n",
            "[nltk_data]    |   Unzipping corpora/cmudict.zip.\n",
            "[nltk_data]    | Downloading package comparative_sentences to\n",
            "[nltk_data]    |     /root/nltk_data...\n",
            "[nltk_data]    |   Unzipping corpora/comparative_sentences.zip.\n",
            "[nltk_data]    | Downloading package comtrans to /root/nltk_data...\n",
            "[nltk_data]    | Downloading package conll2000 to /root/nltk_data...\n",
            "[nltk_data]    |   Unzipping corpora/conll2000.zip.\n",
            "[nltk_data]    | Downloading package conll2002 to /root/nltk_data...\n",
            "[nltk_data]    |   Unzipping corpora/conll2002.zip.\n",
            "[nltk_data]    | Downloading package conll2007 to /root/nltk_data...\n",
            "[nltk_data]    | Downloading package crubadan to /root/nltk_data...\n",
            "[nltk_data]    |   Unzipping corpora/crubadan.zip.\n",
            "[nltk_data]    | Downloading package dependency_treebank to\n",
            "[nltk_data]    |     /root/nltk_data...\n",
            "[nltk_data]    |   Unzipping corpora/dependency_treebank.zip.\n",
            "[nltk_data]    | Downloading package dolch to /root/nltk_data...\n",
            "[nltk_data]    |   Unzipping corpora/dolch.zip.\n",
            "[nltk_data]    | Downloading package europarl_raw to\n",
            "[nltk_data]    |     /root/nltk_data...\n",
            "[nltk_data]    |   Unzipping corpora/europarl_raw.zip.\n",
            "[nltk_data]    | Downloading package extended_omw to\n",
            "[nltk_data]    |     /root/nltk_data...\n",
            "[nltk_data]    | Downloading package floresta to /root/nltk_data...\n",
            "[nltk_data]    |   Unzipping corpora/floresta.zip.\n",
            "[nltk_data]    | Downloading package framenet_v15 to\n",
            "[nltk_data]    |     /root/nltk_data...\n",
            "[nltk_data]    |   Unzipping corpora/framenet_v15.zip.\n",
            "[nltk_data]    | Downloading package framenet_v17 to\n",
            "[nltk_data]    |     /root/nltk_data...\n",
            "[nltk_data]    |   Unzipping corpora/framenet_v17.zip.\n",
            "[nltk_data]    | Downloading package gazetteers to /root/nltk_data...\n",
            "[nltk_data]    |   Unzipping corpora/gazetteers.zip.\n",
            "[nltk_data]    | Downloading package genesis to /root/nltk_data...\n",
            "[nltk_data]    |   Unzipping corpora/genesis.zip.\n",
            "[nltk_data]    | Downloading package gutenberg to /root/nltk_data...\n",
            "[nltk_data]    |   Unzipping corpora/gutenberg.zip.\n",
            "[nltk_data]    | Downloading package ieer to /root/nltk_data...\n",
            "[nltk_data]    |   Unzipping corpora/ieer.zip.\n",
            "[nltk_data]    | Downloading package inaugural to /root/nltk_data...\n",
            "[nltk_data]    |   Unzipping corpora/inaugural.zip.\n",
            "[nltk_data]    | Downloading package indian to /root/nltk_data...\n",
            "[nltk_data]    |   Unzipping corpora/indian.zip.\n",
            "[nltk_data]    | Downloading package jeita to /root/nltk_data...\n",
            "[nltk_data]    | Downloading package kimmo to /root/nltk_data...\n",
            "[nltk_data]    |   Unzipping corpora/kimmo.zip.\n",
            "[nltk_data]    | Downloading package knbc to /root/nltk_data...\n",
            "[nltk_data]    | Downloading package large_grammars to\n",
            "[nltk_data]    |     /root/nltk_data...\n",
            "[nltk_data]    |   Unzipping grammars/large_grammars.zip.\n",
            "[nltk_data]    | Downloading package lin_thesaurus to\n",
            "[nltk_data]    |     /root/nltk_data...\n",
            "[nltk_data]    |   Unzipping corpora/lin_thesaurus.zip.\n",
            "[nltk_data]    | Downloading package mac_morpho to /root/nltk_data...\n",
            "[nltk_data]    |   Unzipping corpora/mac_morpho.zip.\n",
            "[nltk_data]    | Downloading package machado to /root/nltk_data...\n",
            "[nltk_data]    | Downloading package masc_tagged to /root/nltk_data...\n",
            "[nltk_data]    | Downloading package maxent_ne_chunker to\n",
            "[nltk_data]    |     /root/nltk_data...\n",
            "[nltk_data]    |   Unzipping chunkers/maxent_ne_chunker.zip.\n",
            "[nltk_data]    | Downloading package maxent_treebank_pos_tagger to\n",
            "[nltk_data]    |     /root/nltk_data...\n",
            "[nltk_data]    |   Unzipping taggers/maxent_treebank_pos_tagger.zip.\n",
            "[nltk_data]    | Downloading package moses_sample to\n",
            "[nltk_data]    |     /root/nltk_data...\n",
            "[nltk_data]    |   Unzipping models/moses_sample.zip.\n",
            "[nltk_data]    | Downloading package movie_reviews to\n",
            "[nltk_data]    |     /root/nltk_data...\n",
            "[nltk_data]    |   Unzipping corpora/movie_reviews.zip.\n",
            "[nltk_data]    | Downloading package mte_teip5 to /root/nltk_data...\n",
            "[nltk_data]    |   Unzipping corpora/mte_teip5.zip.\n",
            "[nltk_data]    | Downloading package mwa_ppdb to /root/nltk_data...\n",
            "[nltk_data]    |   Unzipping misc/mwa_ppdb.zip.\n",
            "[nltk_data]    | Downloading package names to /root/nltk_data...\n",
            "[nltk_data]    |   Unzipping corpora/names.zip.\n",
            "[nltk_data]    | Downloading package nombank.1.0 to /root/nltk_data...\n",
            "[nltk_data]    | Downloading package nonbreaking_prefixes to\n",
            "[nltk_data]    |     /root/nltk_data...\n",
            "[nltk_data]    |   Unzipping corpora/nonbreaking_prefixes.zip.\n",
            "[nltk_data]    | Downloading package nps_chat to /root/nltk_data...\n",
            "[nltk_data]    |   Unzipping corpora/nps_chat.zip.\n",
            "[nltk_data]    | Downloading package omw to /root/nltk_data...\n",
            "[nltk_data]    | Downloading package omw-1.4 to /root/nltk_data...\n",
            "[nltk_data]    | Downloading package opinion_lexicon to\n",
            "[nltk_data]    |     /root/nltk_data...\n",
            "[nltk_data]    |   Unzipping corpora/opinion_lexicon.zip.\n",
            "[nltk_data]    | Downloading package panlex_swadesh to\n",
            "[nltk_data]    |     /root/nltk_data...\n",
            "[nltk_data]    | Downloading package paradigms to /root/nltk_data...\n",
            "[nltk_data]    |   Unzipping corpora/paradigms.zip.\n",
            "[nltk_data]    | Downloading package pe08 to /root/nltk_data...\n",
            "[nltk_data]    |   Unzipping corpora/pe08.zip.\n",
            "[nltk_data]    | Downloading package perluniprops to\n",
            "[nltk_data]    |     /root/nltk_data...\n",
            "[nltk_data]    |   Unzipping misc/perluniprops.zip.\n",
            "[nltk_data]    | Downloading package pil to /root/nltk_data...\n",
            "[nltk_data]    |   Unzipping corpora/pil.zip.\n",
            "[nltk_data]    | Downloading package pl196x to /root/nltk_data...\n",
            "[nltk_data]    |   Unzipping corpora/pl196x.zip.\n",
            "[nltk_data]    | Downloading package porter_test to /root/nltk_data...\n",
            "[nltk_data]    |   Unzipping stemmers/porter_test.zip.\n",
            "[nltk_data]    | Downloading package ppattach to /root/nltk_data...\n",
            "[nltk_data]    |   Unzipping corpora/ppattach.zip.\n",
            "[nltk_data]    | Downloading package problem_reports to\n",
            "[nltk_data]    |     /root/nltk_data...\n",
            "[nltk_data]    |   Unzipping corpora/problem_reports.zip.\n",
            "[nltk_data]    | Downloading package product_reviews_1 to\n",
            "[nltk_data]    |     /root/nltk_data...\n",
            "[nltk_data]    |   Unzipping corpora/product_reviews_1.zip.\n",
            "[nltk_data]    | Downloading package product_reviews_2 to\n",
            "[nltk_data]    |     /root/nltk_data...\n",
            "[nltk_data]    |   Unzipping corpora/product_reviews_2.zip.\n",
            "[nltk_data]    | Downloading package propbank to /root/nltk_data...\n",
            "[nltk_data]    | Downloading package pros_cons to /root/nltk_data...\n",
            "[nltk_data]    |   Unzipping corpora/pros_cons.zip.\n",
            "[nltk_data]    | Downloading package ptb to /root/nltk_data...\n",
            "[nltk_data]    |   Unzipping corpora/ptb.zip.\n",
            "[nltk_data]    | Downloading package punkt to /root/nltk_data...\n",
            "[nltk_data]    |   Unzipping tokenizers/punkt.zip.\n",
            "[nltk_data]    | Downloading package qc to /root/nltk_data...\n",
            "[nltk_data]    |   Unzipping corpora/qc.zip.\n",
            "[nltk_data]    | Downloading package reuters to /root/nltk_data...\n",
            "[nltk_data]    | Downloading package rslp to /root/nltk_data...\n",
            "[nltk_data]    |   Unzipping stemmers/rslp.zip.\n",
            "[nltk_data]    | Downloading package rte to /root/nltk_data...\n",
            "[nltk_data]    |   Unzipping corpora/rte.zip.\n",
            "[nltk_data]    | Downloading package sample_grammars to\n",
            "[nltk_data]    |     /root/nltk_data...\n",
            "[nltk_data]    |   Unzipping grammars/sample_grammars.zip.\n",
            "[nltk_data]    | Downloading package semcor to /root/nltk_data...\n",
            "[nltk_data]    | Downloading package senseval to /root/nltk_data...\n",
            "[nltk_data]    |   Unzipping corpora/senseval.zip.\n",
            "[nltk_data]    | Downloading package sentence_polarity to\n",
            "[nltk_data]    |     /root/nltk_data...\n",
            "[nltk_data]    |   Unzipping corpora/sentence_polarity.zip.\n",
            "[nltk_data]    | Downloading package sentiwordnet to\n",
            "[nltk_data]    |     /root/nltk_data...\n",
            "[nltk_data]    |   Unzipping corpora/sentiwordnet.zip.\n",
            "[nltk_data]    | Downloading package shakespeare to /root/nltk_data...\n",
            "[nltk_data]    |   Unzipping corpora/shakespeare.zip.\n",
            "[nltk_data]    | Downloading package sinica_treebank to\n",
            "[nltk_data]    |     /root/nltk_data...\n",
            "[nltk_data]    |   Unzipping corpora/sinica_treebank.zip.\n",
            "[nltk_data]    | Downloading package smultron to /root/nltk_data...\n",
            "[nltk_data]    |   Unzipping corpora/smultron.zip.\n",
            "[nltk_data]    | Downloading package snowball_data to\n",
            "[nltk_data]    |     /root/nltk_data...\n",
            "[nltk_data]    | Downloading package spanish_grammars to\n",
            "[nltk_data]    |     /root/nltk_data...\n",
            "[nltk_data]    |   Unzipping grammars/spanish_grammars.zip.\n",
            "[nltk_data]    | Downloading package state_union to /root/nltk_data...\n",
            "[nltk_data]    |   Unzipping corpora/state_union.zip.\n",
            "[nltk_data]    | Downloading package stopwords to /root/nltk_data...\n",
            "[nltk_data]    |   Unzipping corpora/stopwords.zip.\n",
            "[nltk_data]    | Downloading package subjectivity to\n",
            "[nltk_data]    |     /root/nltk_data...\n",
            "[nltk_data]    |   Unzipping corpora/subjectivity.zip.\n",
            "[nltk_data]    | Downloading package swadesh to /root/nltk_data...\n",
            "[nltk_data]    |   Unzipping corpora/swadesh.zip.\n",
            "[nltk_data]    | Downloading package switchboard to /root/nltk_data...\n",
            "[nltk_data]    |   Unzipping corpora/switchboard.zip.\n",
            "[nltk_data]    | Downloading package tagsets to /root/nltk_data...\n",
            "[nltk_data]    |   Unzipping help/tagsets.zip.\n",
            "[nltk_data]    | Downloading package timit to /root/nltk_data...\n",
            "[nltk_data]    |   Unzipping corpora/timit.zip.\n",
            "[nltk_data]    | Downloading package toolbox to /root/nltk_data...\n",
            "[nltk_data]    |   Unzipping corpora/toolbox.zip.\n",
            "[nltk_data]    | Downloading package treebank to /root/nltk_data...\n",
            "[nltk_data]    |   Unzipping corpora/treebank.zip.\n",
            "[nltk_data]    | Downloading package twitter_samples to\n",
            "[nltk_data]    |     /root/nltk_data...\n",
            "[nltk_data]    |   Unzipping corpora/twitter_samples.zip.\n",
            "[nltk_data]    | Downloading package udhr to /root/nltk_data...\n",
            "[nltk_data]    |   Unzipping corpora/udhr.zip.\n",
            "[nltk_data]    | Downloading package udhr2 to /root/nltk_data...\n",
            "[nltk_data]    |   Unzipping corpora/udhr2.zip.\n",
            "[nltk_data]    | Downloading package unicode_samples to\n",
            "[nltk_data]    |     /root/nltk_data...\n",
            "[nltk_data]    |   Unzipping corpora/unicode_samples.zip.\n",
            "[nltk_data]    | Downloading package universal_tagset to\n",
            "[nltk_data]    |     /root/nltk_data...\n",
            "[nltk_data]    |   Unzipping taggers/universal_tagset.zip.\n",
            "[nltk_data]    | Downloading package universal_treebanks_v20 to\n",
            "[nltk_data]    |     /root/nltk_data...\n",
            "[nltk_data]    | Downloading package vader_lexicon to\n",
            "[nltk_data]    |     /root/nltk_data...\n",
            "[nltk_data]    | Downloading package verbnet to /root/nltk_data...\n",
            "[nltk_data]    |   Unzipping corpora/verbnet.zip.\n",
            "[nltk_data]    | Downloading package verbnet3 to /root/nltk_data...\n",
            "[nltk_data]    |   Unzipping corpora/verbnet3.zip.\n",
            "[nltk_data]    | Downloading package webtext to /root/nltk_data...\n",
            "[nltk_data]    |   Unzipping corpora/webtext.zip.\n",
            "[nltk_data]    | Downloading package wmt15_eval to /root/nltk_data...\n",
            "[nltk_data]    |   Unzipping models/wmt15_eval.zip.\n",
            "[nltk_data]    | Downloading package word2vec_sample to\n",
            "[nltk_data]    |     /root/nltk_data...\n",
            "[nltk_data]    |   Unzipping models/word2vec_sample.zip.\n",
            "[nltk_data]    | Downloading package wordnet to /root/nltk_data...\n",
            "[nltk_data]    | Downloading package wordnet2021 to /root/nltk_data...\n",
            "[nltk_data]    | Downloading package wordnet31 to /root/nltk_data...\n",
            "[nltk_data]    | Downloading package wordnet_ic to /root/nltk_data...\n",
            "[nltk_data]    |   Unzipping corpora/wordnet_ic.zip.\n",
            "[nltk_data]    | Downloading package words to /root/nltk_data...\n",
            "[nltk_data]    |   Unzipping corpora/words.zip.\n",
            "[nltk_data]    | Downloading package ycoe to /root/nltk_data...\n",
            "[nltk_data]    |   Unzipping corpora/ycoe.zip.\n",
            "[nltk_data]    | \n",
            "[nltk_data]  Done downloading collection all\n"
          ]
        },
        {
          "output_type": "execute_result",
          "data": {
            "text/plain": [
              "True"
            ]
          },
          "metadata": {},
          "execution_count": 5
        }
      ],
      "source": [
        "import nltk\n",
        "nltk.download('all')"
      ]
    },
    {
      "cell_type": "markdown",
      "source": [
        "Latihan 2"
      ],
      "metadata": {
        "id": "fSSmiappUK-S"
      }
    },
    {
      "cell_type": "code",
      "source": [
        "teks ='Pertemana! DitemaNKAn3 BeRtEman'\n",
        "satu =teks[3:8]\n",
        "dua = teks[13:18].lower()\n",
        "tiga =teks[26:32].lower()\n",
        "print (\"teks = {\",satu,dua,tiga,\"}\")"
      ],
      "metadata": {
        "colab": {
          "base_uri": "https://localhost:8080/"
        },
        "id": "BjnUhCejKSI8",
        "outputId": "9caa11a0-ee52-4732-aa20-18c2dbe000f4"
      },
      "execution_count": null,
      "outputs": [
        {
          "output_type": "stream",
          "name": "stdout",
          "text": [
            "teks = { teman teman teman }\n"
          ]
        }
      ]
    },
    {
      "cell_type": "markdown",
      "source": [
        "Pada syntax ini menggunakan metode manipulasi string yang mana menggunakan String.lower yang berfungsi untuk mengubah String menjadi kecil. untuk varriabel satu dau tiga adalah variabel untuk menampung list dari String kita tentukan."
      ],
      "metadata": {
        "id": "Ip4xdGZoQeQb"
      }
    },
    {
      "cell_type": "markdown",
      "source": [
        "Latihan 3"
      ],
      "metadata": {
        "id": "UEvlwmQWUF8d"
      }
    },
    {
      "cell_type": "code",
      "source": [
        "teks=[\"Yogyakarta\",\"YOGYAKARTA\",\"YOGYAkarta\",\"yOgyAkArtA\"]\n",
        "lower_word = [word.lower() for word in teks]\n",
        "lower_word"
      ],
      "metadata": {
        "id": "bJYHLppRQcv-",
        "colab": {
          "base_uri": "https://localhost:8080/"
        },
        "outputId": "aef4b7da-5c0b-4857-e4f8-9b9f17c934d1"
      },
      "execution_count": null,
      "outputs": [
        {
          "output_type": "execute_result",
          "data": {
            "text/plain": [
              "['yogyakarta', 'yogyakarta', 'yogyakarta', 'yogyakarta']"
            ]
          },
          "metadata": {},
          "execution_count": 7
        }
      ]
    },
    {
      "cell_type": "markdown",
      "source": [
        "pada program ini kita menggunakan sebuah method di untuk mengubah kata menjadi huruf kecil menggunakan function lower"
      ],
      "metadata": {
        "id": "BCe_084lTD5u"
      }
    },
    {
      "cell_type": "markdown",
      "source": [
        "Latihan 4"
      ],
      "metadata": {
        "id": "TJ-WKF8VUOcO"
      }
    },
    {
      "cell_type": "code",
      "source": [
        "import nltk\n",
        "import pandas as pd\n",
        "from nltk.stem import PorterStemmer"
      ],
      "metadata": {
        "id": "-hk_2wmJRaXA"
      },
      "execution_count": null,
      "outputs": []
    },
    {
      "cell_type": "code",
      "source": [
        "porter_stremer = PorterStemmer()"
      ],
      "metadata": {
        "id": "50d1vtNvR0gh"
      },
      "execution_count": null,
      "outputs": []
    },
    {
      "cell_type": "code",
      "source": [
        "words=[\"connect\",\"connected\",\"connection\",\"connections\",\"connects\",\"connecting\"]\n",
        "stemmed_word = [porter_stremer.stem(word = word) for word in words]\n",
        "stemdf = pd.DataFrame({'original_word':words,'stemmed_word':stemmed_word})\n",
        "stemdf"
      ],
      "metadata": {
        "id": "YwgZg43uSDzq",
        "colab": {
          "base_uri": "https://localhost:8080/",
          "height": 237
        },
        "outputId": "d1229dba-0cf8-4188-a675-3ae0032467a5"
      },
      "execution_count": null,
      "outputs": [
        {
          "output_type": "execute_result",
          "data": {
            "text/plain": [
              "  original_word stemmed_word\n",
              "0       connect      connect\n",
              "1     connected      connect\n",
              "2    connection      connect\n",
              "3   connections      connect\n",
              "4      connects      connect\n",
              "5    connecting      connect"
            ],
            "text/html": [
              "\n",
              "  <div id=\"df-cdaddd48-984d-42a1-b354-ee6e5c895578\">\n",
              "    <div class=\"colab-df-container\">\n",
              "      <div>\n",
              "<style scoped>\n",
              "    .dataframe tbody tr th:only-of-type {\n",
              "        vertical-align: middle;\n",
              "    }\n",
              "\n",
              "    .dataframe tbody tr th {\n",
              "        vertical-align: top;\n",
              "    }\n",
              "\n",
              "    .dataframe thead th {\n",
              "        text-align: right;\n",
              "    }\n",
              "</style>\n",
              "<table border=\"1\" class=\"dataframe\">\n",
              "  <thead>\n",
              "    <tr style=\"text-align: right;\">\n",
              "      <th></th>\n",
              "      <th>original_word</th>\n",
              "      <th>stemmed_word</th>\n",
              "    </tr>\n",
              "  </thead>\n",
              "  <tbody>\n",
              "    <tr>\n",
              "      <th>0</th>\n",
              "      <td>connect</td>\n",
              "      <td>connect</td>\n",
              "    </tr>\n",
              "    <tr>\n",
              "      <th>1</th>\n",
              "      <td>connected</td>\n",
              "      <td>connect</td>\n",
              "    </tr>\n",
              "    <tr>\n",
              "      <th>2</th>\n",
              "      <td>connection</td>\n",
              "      <td>connect</td>\n",
              "    </tr>\n",
              "    <tr>\n",
              "      <th>3</th>\n",
              "      <td>connections</td>\n",
              "      <td>connect</td>\n",
              "    </tr>\n",
              "    <tr>\n",
              "      <th>4</th>\n",
              "      <td>connects</td>\n",
              "      <td>connect</td>\n",
              "    </tr>\n",
              "    <tr>\n",
              "      <th>5</th>\n",
              "      <td>connecting</td>\n",
              "      <td>connect</td>\n",
              "    </tr>\n",
              "  </tbody>\n",
              "</table>\n",
              "</div>\n",
              "      <button class=\"colab-df-convert\" onclick=\"convertToInteractive('df-cdaddd48-984d-42a1-b354-ee6e5c895578')\"\n",
              "              title=\"Convert this dataframe to an interactive table.\"\n",
              "              style=\"display:none;\">\n",
              "        \n",
              "  <svg xmlns=\"http://www.w3.org/2000/svg\" height=\"24px\"viewBox=\"0 0 24 24\"\n",
              "       width=\"24px\">\n",
              "    <path d=\"M0 0h24v24H0V0z\" fill=\"none\"/>\n",
              "    <path d=\"M18.56 5.44l.94 2.06.94-2.06 2.06-.94-2.06-.94-.94-2.06-.94 2.06-2.06.94zm-11 1L8.5 8.5l.94-2.06 2.06-.94-2.06-.94L8.5 2.5l-.94 2.06-2.06.94zm10 10l.94 2.06.94-2.06 2.06-.94-2.06-.94-.94-2.06-.94 2.06-2.06.94z\"/><path d=\"M17.41 7.96l-1.37-1.37c-.4-.4-.92-.59-1.43-.59-.52 0-1.04.2-1.43.59L10.3 9.45l-7.72 7.72c-.78.78-.78 2.05 0 2.83L4 21.41c.39.39.9.59 1.41.59.51 0 1.02-.2 1.41-.59l7.78-7.78 2.81-2.81c.8-.78.8-2.07 0-2.86zM5.41 20L4 18.59l7.72-7.72 1.47 1.35L5.41 20z\"/>\n",
              "  </svg>\n",
              "      </button>\n",
              "      \n",
              "  <style>\n",
              "    .colab-df-container {\n",
              "      display:flex;\n",
              "      flex-wrap:wrap;\n",
              "      gap: 12px;\n",
              "    }\n",
              "\n",
              "    .colab-df-convert {\n",
              "      background-color: #E8F0FE;\n",
              "      border: none;\n",
              "      border-radius: 50%;\n",
              "      cursor: pointer;\n",
              "      display: none;\n",
              "      fill: #1967D2;\n",
              "      height: 32px;\n",
              "      padding: 0 0 0 0;\n",
              "      width: 32px;\n",
              "    }\n",
              "\n",
              "    .colab-df-convert:hover {\n",
              "      background-color: #E2EBFA;\n",
              "      box-shadow: 0px 1px 2px rgba(60, 64, 67, 0.3), 0px 1px 3px 1px rgba(60, 64, 67, 0.15);\n",
              "      fill: #174EA6;\n",
              "    }\n",
              "\n",
              "    [theme=dark] .colab-df-convert {\n",
              "      background-color: #3B4455;\n",
              "      fill: #D2E3FC;\n",
              "    }\n",
              "\n",
              "    [theme=dark] .colab-df-convert:hover {\n",
              "      background-color: #434B5C;\n",
              "      box-shadow: 0px 1px 3px 1px rgba(0, 0, 0, 0.15);\n",
              "      filter: drop-shadow(0px 1px 2px rgba(0, 0, 0, 0.3));\n",
              "      fill: #FFFFFF;\n",
              "    }\n",
              "  </style>\n",
              "\n",
              "      <script>\n",
              "        const buttonEl =\n",
              "          document.querySelector('#df-cdaddd48-984d-42a1-b354-ee6e5c895578 button.colab-df-convert');\n",
              "        buttonEl.style.display =\n",
              "          google.colab.kernel.accessAllowed ? 'block' : 'none';\n",
              "\n",
              "        async function convertToInteractive(key) {\n",
              "          const element = document.querySelector('#df-cdaddd48-984d-42a1-b354-ee6e5c895578');\n",
              "          const dataTable =\n",
              "            await google.colab.kernel.invokeFunction('convertToInteractive',\n",
              "                                                     [key], {});\n",
              "          if (!dataTable) return;\n",
              "\n",
              "          const docLinkHtml = 'Like what you see? Visit the ' +\n",
              "            '<a target=\"_blank\" href=https://colab.research.google.com/notebooks/data_table.ipynb>data table notebook</a>'\n",
              "            + ' to learn more about interactive tables.';\n",
              "          element.innerHTML = '';\n",
              "          dataTable['output_type'] = 'display_data';\n",
              "          await google.colab.output.renderOutput(dataTable, element);\n",
              "          const docLink = document.createElement('div');\n",
              "          docLink.innerHTML = docLinkHtml;\n",
              "          element.appendChild(docLink);\n",
              "        }\n",
              "      </script>\n",
              "    </div>\n",
              "  </div>\n",
              "  "
            ]
          },
          "metadata": {},
          "execution_count": 10
        }
      ]
    },
    {
      "cell_type": "markdown",
      "source": [
        "dalam program ini bisa kita lihat  terdapat perubahan dari original word menjadi stemmed word yaitu menjadi kata dasar"
      ],
      "metadata": {
        "id": "NZ6MsqqbTddm"
      }
    },
    {
      "cell_type": "markdown",
      "source": [
        "Latihan 5"
      ],
      "metadata": {
        "id": "YBR2y3zLURw5"
      }
    },
    {
      "cell_type": "code",
      "source": [
        "from nltk.stem import WordNetLemmatizer\n",
        "nltk.download('wordnet')\n",
        "nltk.download('omw-1.4')"
      ],
      "metadata": {
        "colab": {
          "base_uri": "https://localhost:8080/"
        },
        "id": "1_FOzmdFUB6R",
        "outputId": "4ef6d0f9-9b7e-4be4-92e2-e307eb0ee97f"
      },
      "execution_count": null,
      "outputs": [
        {
          "output_type": "stream",
          "name": "stderr",
          "text": [
            "[nltk_data] Downloading package wordnet to /root/nltk_data...\n",
            "[nltk_data]   Package wordnet is already up-to-date!\n",
            "[nltk_data] Downloading package omw-1.4 to /root/nltk_data...\n",
            "[nltk_data]   Package omw-1.4 is already up-to-date!\n"
          ]
        },
        {
          "output_type": "execute_result",
          "data": {
            "text/plain": [
              "True"
            ]
          },
          "metadata": {},
          "execution_count": 12
        }
      ]
    },
    {
      "cell_type": "code",
      "source": [
        "lemmatizer = WordNetLemmatizer()"
      ],
      "metadata": {
        "id": "cRDhNVsuU9kc"
      },
      "execution_count": null,
      "outputs": []
    },
    {
      "cell_type": "markdown",
      "source": [
        "Lemmatization"
      ],
      "metadata": {
        "id": "fygxDHh2VXyx"
      }
    },
    {
      "cell_type": "code",
      "source": [
        "words=[\"learn\",\"learning\",\"learned\",\"learnt\",]\n",
        "lematized_word = [lemmatizer.lemmatize(word = word,pos='v')for word in words]\n",
        "lemmatizeddf = pd.DataFrame({'original_word':words,'Lemmatized_worrd':lematized_word})\n",
        "# lemmatizeddf =  lemmatizeddf [['original_word','lemmatized_word']]\n",
        "lemmatizeddf"
      ],
      "metadata": {
        "colab": {
          "base_uri": "https://localhost:8080/",
          "height": 175
        },
        "id": "jn2CaS46VSaT",
        "outputId": "11089486-d5dc-4d4e-8ac4-9f06a69fee71"
      },
      "execution_count": null,
      "outputs": [
        {
          "output_type": "execute_result",
          "data": {
            "text/plain": [
              "  original_word Lemmatized_worrd\n",
              "0         learn            learn\n",
              "1      learning            learn\n",
              "2       learned            learn\n",
              "3        learnt            learn"
            ],
            "text/html": [
              "\n",
              "  <div id=\"df-5f625446-353e-4126-87c7-c9b77db0f0da\">\n",
              "    <div class=\"colab-df-container\">\n",
              "      <div>\n",
              "<style scoped>\n",
              "    .dataframe tbody tr th:only-of-type {\n",
              "        vertical-align: middle;\n",
              "    }\n",
              "\n",
              "    .dataframe tbody tr th {\n",
              "        vertical-align: top;\n",
              "    }\n",
              "\n",
              "    .dataframe thead th {\n",
              "        text-align: right;\n",
              "    }\n",
              "</style>\n",
              "<table border=\"1\" class=\"dataframe\">\n",
              "  <thead>\n",
              "    <tr style=\"text-align: right;\">\n",
              "      <th></th>\n",
              "      <th>original_word</th>\n",
              "      <th>Lemmatized_worrd</th>\n",
              "    </tr>\n",
              "  </thead>\n",
              "  <tbody>\n",
              "    <tr>\n",
              "      <th>0</th>\n",
              "      <td>learn</td>\n",
              "      <td>learn</td>\n",
              "    </tr>\n",
              "    <tr>\n",
              "      <th>1</th>\n",
              "      <td>learning</td>\n",
              "      <td>learn</td>\n",
              "    </tr>\n",
              "    <tr>\n",
              "      <th>2</th>\n",
              "      <td>learned</td>\n",
              "      <td>learn</td>\n",
              "    </tr>\n",
              "    <tr>\n",
              "      <th>3</th>\n",
              "      <td>learnt</td>\n",
              "      <td>learn</td>\n",
              "    </tr>\n",
              "  </tbody>\n",
              "</table>\n",
              "</div>\n",
              "      <button class=\"colab-df-convert\" onclick=\"convertToInteractive('df-5f625446-353e-4126-87c7-c9b77db0f0da')\"\n",
              "              title=\"Convert this dataframe to an interactive table.\"\n",
              "              style=\"display:none;\">\n",
              "        \n",
              "  <svg xmlns=\"http://www.w3.org/2000/svg\" height=\"24px\"viewBox=\"0 0 24 24\"\n",
              "       width=\"24px\">\n",
              "    <path d=\"M0 0h24v24H0V0z\" fill=\"none\"/>\n",
              "    <path d=\"M18.56 5.44l.94 2.06.94-2.06 2.06-.94-2.06-.94-.94-2.06-.94 2.06-2.06.94zm-11 1L8.5 8.5l.94-2.06 2.06-.94-2.06-.94L8.5 2.5l-.94 2.06-2.06.94zm10 10l.94 2.06.94-2.06 2.06-.94-2.06-.94-.94-2.06-.94 2.06-2.06.94z\"/><path d=\"M17.41 7.96l-1.37-1.37c-.4-.4-.92-.59-1.43-.59-.52 0-1.04.2-1.43.59L10.3 9.45l-7.72 7.72c-.78.78-.78 2.05 0 2.83L4 21.41c.39.39.9.59 1.41.59.51 0 1.02-.2 1.41-.59l7.78-7.78 2.81-2.81c.8-.78.8-2.07 0-2.86zM5.41 20L4 18.59l7.72-7.72 1.47 1.35L5.41 20z\"/>\n",
              "  </svg>\n",
              "      </button>\n",
              "      \n",
              "  <style>\n",
              "    .colab-df-container {\n",
              "      display:flex;\n",
              "      flex-wrap:wrap;\n",
              "      gap: 12px;\n",
              "    }\n",
              "\n",
              "    .colab-df-convert {\n",
              "      background-color: #E8F0FE;\n",
              "      border: none;\n",
              "      border-radius: 50%;\n",
              "      cursor: pointer;\n",
              "      display: none;\n",
              "      fill: #1967D2;\n",
              "      height: 32px;\n",
              "      padding: 0 0 0 0;\n",
              "      width: 32px;\n",
              "    }\n",
              "\n",
              "    .colab-df-convert:hover {\n",
              "      background-color: #E2EBFA;\n",
              "      box-shadow: 0px 1px 2px rgba(60, 64, 67, 0.3), 0px 1px 3px 1px rgba(60, 64, 67, 0.15);\n",
              "      fill: #174EA6;\n",
              "    }\n",
              "\n",
              "    [theme=dark] .colab-df-convert {\n",
              "      background-color: #3B4455;\n",
              "      fill: #D2E3FC;\n",
              "    }\n",
              "\n",
              "    [theme=dark] .colab-df-convert:hover {\n",
              "      background-color: #434B5C;\n",
              "      box-shadow: 0px 1px 3px 1px rgba(0, 0, 0, 0.15);\n",
              "      filter: drop-shadow(0px 1px 2px rgba(0, 0, 0, 0.3));\n",
              "      fill: #FFFFFF;\n",
              "    }\n",
              "  </style>\n",
              "\n",
              "      <script>\n",
              "        const buttonEl =\n",
              "          document.querySelector('#df-5f625446-353e-4126-87c7-c9b77db0f0da button.colab-df-convert');\n",
              "        buttonEl.style.display =\n",
              "          google.colab.kernel.accessAllowed ? 'block' : 'none';\n",
              "\n",
              "        async function convertToInteractive(key) {\n",
              "          const element = document.querySelector('#df-5f625446-353e-4126-87c7-c9b77db0f0da');\n",
              "          const dataTable =\n",
              "            await google.colab.kernel.invokeFunction('convertToInteractive',\n",
              "                                                     [key], {});\n",
              "          if (!dataTable) return;\n",
              "\n",
              "          const docLinkHtml = 'Like what you see? Visit the ' +\n",
              "            '<a target=\"_blank\" href=https://colab.research.google.com/notebooks/data_table.ipynb>data table notebook</a>'\n",
              "            + ' to learn more about interactive tables.';\n",
              "          element.innerHTML = '';\n",
              "          dataTable['output_type'] = 'display_data';\n",
              "          await google.colab.output.renderOutput(dataTable, element);\n",
              "          const docLink = document.createElement('div');\n",
              "          docLink.innerHTML = docLinkHtml;\n",
              "          element.appendChild(docLink);\n",
              "        }\n",
              "      </script>\n",
              "    </div>\n",
              "  </div>\n",
              "  "
            ]
          },
          "metadata": {},
          "execution_count": 14
        }
      ]
    },
    {
      "cell_type": "code",
      "source": [
        "words=[\"goose\",\"geese\"]\n",
        "lematized_word = [lemmatizer.lemmatize(word = word,pos='n')for word in words]\n",
        "lemmatizeddf = pd.DataFrame({'original_word':words,'Lemmatized_worrd':lematized_word})\n",
        "# lemmatizeddf =  lemmatizeddf [['original_word','lemmatized_word']]\n",
        "lemmatizeddf"
      ],
      "metadata": {
        "colab": {
          "base_uri": "https://localhost:8080/",
          "height": 112
        },
        "id": "1oqaUVfzYbU6",
        "outputId": "9e472810-51dc-426d-fb1e-084ae1c182e6"
      },
      "execution_count": null,
      "outputs": [
        {
          "output_type": "execute_result",
          "data": {
            "text/plain": [
              "  original_word Lemmatized_worrd\n",
              "0         goose            goose\n",
              "1         geese            goose"
            ],
            "text/html": [
              "\n",
              "  <div id=\"df-305a05d9-b5c9-45c3-b12d-25fbce821aa4\">\n",
              "    <div class=\"colab-df-container\">\n",
              "      <div>\n",
              "<style scoped>\n",
              "    .dataframe tbody tr th:only-of-type {\n",
              "        vertical-align: middle;\n",
              "    }\n",
              "\n",
              "    .dataframe tbody tr th {\n",
              "        vertical-align: top;\n",
              "    }\n",
              "\n",
              "    .dataframe thead th {\n",
              "        text-align: right;\n",
              "    }\n",
              "</style>\n",
              "<table border=\"1\" class=\"dataframe\">\n",
              "  <thead>\n",
              "    <tr style=\"text-align: right;\">\n",
              "      <th></th>\n",
              "      <th>original_word</th>\n",
              "      <th>Lemmatized_worrd</th>\n",
              "    </tr>\n",
              "  </thead>\n",
              "  <tbody>\n",
              "    <tr>\n",
              "      <th>0</th>\n",
              "      <td>goose</td>\n",
              "      <td>goose</td>\n",
              "    </tr>\n",
              "    <tr>\n",
              "      <th>1</th>\n",
              "      <td>geese</td>\n",
              "      <td>goose</td>\n",
              "    </tr>\n",
              "  </tbody>\n",
              "</table>\n",
              "</div>\n",
              "      <button class=\"colab-df-convert\" onclick=\"convertToInteractive('df-305a05d9-b5c9-45c3-b12d-25fbce821aa4')\"\n",
              "              title=\"Convert this dataframe to an interactive table.\"\n",
              "              style=\"display:none;\">\n",
              "        \n",
              "  <svg xmlns=\"http://www.w3.org/2000/svg\" height=\"24px\"viewBox=\"0 0 24 24\"\n",
              "       width=\"24px\">\n",
              "    <path d=\"M0 0h24v24H0V0z\" fill=\"none\"/>\n",
              "    <path d=\"M18.56 5.44l.94 2.06.94-2.06 2.06-.94-2.06-.94-.94-2.06-.94 2.06-2.06.94zm-11 1L8.5 8.5l.94-2.06 2.06-.94-2.06-.94L8.5 2.5l-.94 2.06-2.06.94zm10 10l.94 2.06.94-2.06 2.06-.94-2.06-.94-.94-2.06-.94 2.06-2.06.94z\"/><path d=\"M17.41 7.96l-1.37-1.37c-.4-.4-.92-.59-1.43-.59-.52 0-1.04.2-1.43.59L10.3 9.45l-7.72 7.72c-.78.78-.78 2.05 0 2.83L4 21.41c.39.39.9.59 1.41.59.51 0 1.02-.2 1.41-.59l7.78-7.78 2.81-2.81c.8-.78.8-2.07 0-2.86zM5.41 20L4 18.59l7.72-7.72 1.47 1.35L5.41 20z\"/>\n",
              "  </svg>\n",
              "      </button>\n",
              "      \n",
              "  <style>\n",
              "    .colab-df-container {\n",
              "      display:flex;\n",
              "      flex-wrap:wrap;\n",
              "      gap: 12px;\n",
              "    }\n",
              "\n",
              "    .colab-df-convert {\n",
              "      background-color: #E8F0FE;\n",
              "      border: none;\n",
              "      border-radius: 50%;\n",
              "      cursor: pointer;\n",
              "      display: none;\n",
              "      fill: #1967D2;\n",
              "      height: 32px;\n",
              "      padding: 0 0 0 0;\n",
              "      width: 32px;\n",
              "    }\n",
              "\n",
              "    .colab-df-convert:hover {\n",
              "      background-color: #E2EBFA;\n",
              "      box-shadow: 0px 1px 2px rgba(60, 64, 67, 0.3), 0px 1px 3px 1px rgba(60, 64, 67, 0.15);\n",
              "      fill: #174EA6;\n",
              "    }\n",
              "\n",
              "    [theme=dark] .colab-df-convert {\n",
              "      background-color: #3B4455;\n",
              "      fill: #D2E3FC;\n",
              "    }\n",
              "\n",
              "    [theme=dark] .colab-df-convert:hover {\n",
              "      background-color: #434B5C;\n",
              "      box-shadow: 0px 1px 3px 1px rgba(0, 0, 0, 0.15);\n",
              "      filter: drop-shadow(0px 1px 2px rgba(0, 0, 0, 0.3));\n",
              "      fill: #FFFFFF;\n",
              "    }\n",
              "  </style>\n",
              "\n",
              "      <script>\n",
              "        const buttonEl =\n",
              "          document.querySelector('#df-305a05d9-b5c9-45c3-b12d-25fbce821aa4 button.colab-df-convert');\n",
              "        buttonEl.style.display =\n",
              "          google.colab.kernel.accessAllowed ? 'block' : 'none';\n",
              "\n",
              "        async function convertToInteractive(key) {\n",
              "          const element = document.querySelector('#df-305a05d9-b5c9-45c3-b12d-25fbce821aa4');\n",
              "          const dataTable =\n",
              "            await google.colab.kernel.invokeFunction('convertToInteractive',\n",
              "                                                     [key], {});\n",
              "          if (!dataTable) return;\n",
              "\n",
              "          const docLinkHtml = 'Like what you see? Visit the ' +\n",
              "            '<a target=\"_blank\" href=https://colab.research.google.com/notebooks/data_table.ipynb>data table notebook</a>'\n",
              "            + ' to learn more about interactive tables.';\n",
              "          element.innerHTML = '';\n",
              "          dataTable['output_type'] = 'display_data';\n",
              "          await google.colab.output.renderOutput(dataTable, element);\n",
              "          const docLink = document.createElement('div');\n",
              "          docLink.innerHTML = docLinkHtml;\n",
              "          element.appendChild(docLink);\n",
              "        }\n",
              "      </script>\n",
              "    </div>\n",
              "  </div>\n",
              "  "
            ]
          },
          "metadata": {},
          "execution_count": 15
        }
      ]
    },
    {
      "cell_type": "markdown",
      "source": [
        "Lemmatization\n",
        "mengubah kata imbuhan menjadi kata dasar sedangkan Plural lemmatization untuk mengubah kata jamak menjadi kata dasar\n"
      ],
      "metadata": {
        "id": "jRRhhrd7Uho7"
      }
    },
    {
      "cell_type": "markdown",
      "source": [
        "Latihan 6"
      ],
      "metadata": {
        "id": "791hvmgoZ-fF"
      }
    },
    {
      "cell_type": "code",
      "source": [
        "# pertama kita memberikan refrensi pada program  kata stopwords\n",
        "stopwords=[\"this\",\"that\",\"and\",\"a\",\"we\",\"it\",\"to\",\"is\",\"of\",\"up\",\"need\"]\n",
        "# memasukan kalimat yang akan kita hapus stopword\n",
        "text='this is a text full of content and we need to clean it up'\n",
        "\n",
        "#  memisahak String pada pemisa yang di tentukan\n",
        "words = text.split(\" \")\n",
        "# membuat list baru di dalam variabel baru\n",
        "shortlisted_word = []\n",
        "\n",
        "#melakukan perulangan dari stopward kata pertama sampai  terkahir\n",
        "for x in words:\n",
        "  # jika x tidak  sama  dengan stopword maka akan menambah data kedalam list\n",
        "  if x not in stopwords:\n",
        "    shortlisted_word.append(x)\n",
        "    # jika tidak maka masukan stopword kedalam list dengan menggunakan kode X\n",
        "  else :\n",
        "    shortlisted_word.append(\"X\")\n",
        "    # print kalimat asli\n",
        "    print(\"kalimat asli =\",text)\n",
        "    # print kalimat yang telah di ubah menggunakan stopword, denga function join\n",
        "    # untuk menggabungkan elemen dari sebuah iterabel ke dalam String\n",
        "    print(\"kalimat dengan  menghilangkan stop words = \",' '.join(shortlisted_word))\n"
      ],
      "metadata": {
        "colab": {
          "base_uri": "https://localhost:8080/"
        },
        "id": "JGuxGqZ3Z_7V",
        "outputId": "1d48c18f-cfdd-4ded-c6d8-f8384ae488b6"
      },
      "execution_count": null,
      "outputs": [
        {
          "output_type": "stream",
          "name": "stdout",
          "text": [
            "kalimat asli = this is a text full of content and we need to clean it up\n",
            "kalimat dengan  menghilangkan stop words =  X\n",
            "kalimat asli = this is a text full of content and we need to clean it up\n",
            "kalimat dengan  menghilangkan stop words =  X X\n",
            "kalimat asli = this is a text full of content and we need to clean it up\n",
            "kalimat dengan  menghilangkan stop words =  X X X\n",
            "kalimat asli = this is a text full of content and we need to clean it up\n",
            "kalimat dengan  menghilangkan stop words =  X X X text full X\n",
            "kalimat asli = this is a text full of content and we need to clean it up\n",
            "kalimat dengan  menghilangkan stop words =  X X X text full X content X\n",
            "kalimat asli = this is a text full of content and we need to clean it up\n",
            "kalimat dengan  menghilangkan stop words =  X X X text full X content X X\n",
            "kalimat asli = this is a text full of content and we need to clean it up\n",
            "kalimat dengan  menghilangkan stop words =  X X X text full X content X X X\n",
            "kalimat asli = this is a text full of content and we need to clean it up\n",
            "kalimat dengan  menghilangkan stop words =  X X X text full X content X X X X\n",
            "kalimat asli = this is a text full of content and we need to clean it up\n",
            "kalimat dengan  menghilangkan stop words =  X X X text full X content X X X X clean X\n",
            "kalimat asli = this is a text full of content and we need to clean it up\n",
            "kalimat dengan  menghilangkan stop words =  X X X text full X content X X X X clean X X\n"
          ]
        }
      ]
    },
    {
      "cell_type": "markdown",
      "source": [
        "Nomor 7"
      ],
      "metadata": {
        "id": "G9PqRQweaWr0"
      }
    },
    {
      "cell_type": "code",
      "source": [
        "# mengiport library re\n",
        "import re\n",
        "# menginput data\n",
        "raw_words = [\"..trouble..\",\"trouble<\",\"trouble!\",\"<a>trouble<a>\",\"1.trouble\"]\n",
        "# membuat fungsi untuk noise word menggunakan variabel text\n",
        "def scrub_words(text):\n",
        "  text = re.sub(\"(<.*?>)\",\"\",text)\n",
        "  text=re.sub(\"(\\\\W|\\\\d)\",\" \",text)\n",
        "  text=text.strip()\n",
        "  return text\n",
        "\n",
        "cleaned_words = [scrub_words(word) for word in raw_words]\n",
        "\n",
        "cleaned_words\n",
        "\"\"\"\n",
        "dalam program ini kita membuat sebuah membuat pola ekspresi dengan menggunakan\n",
        "method dari lebrary re. kita bisa memasukan  pola atau kode yang kan kita hapuskan\n",
        "dari data kita. terdapat variabel text yang  berfungsi menampung semuah polah yang\n",
        "telah kita masukan sebagai refrensi  program lalu kemabalikan nilai text. kita\n",
        "membuat sebuah variabel baru untuk menampung fungsi dari scrub_word dan melkaukan\n",
        "perulangan fungsi scrub_word kedalam data kita.\n",
        "\n",
        "\"\"\"\n"
      ],
      "metadata": {
        "colab": {
          "base_uri": "https://localhost:8080/",
          "height": 87
        },
        "id": "8Ho3AAtAgzQf",
        "outputId": "26156bb6-2270-4785-abb0-48897eab9ffb"
      },
      "execution_count": null,
      "outputs": [
        {
          "output_type": "execute_result",
          "data": {
            "text/plain": [
              "'\\ndalam program ini kita membuat sebuah membuat pola ekspresi dengan menggunakan \\nmethod dari lebrary re. kita bisa memasukan  pola atau kode yang kan kita hapuskan \\ndari data kita. terdapat variabel text yang  berfungsi menampung semuah polah yang\\ntelah kita masukan sebagai refrensi  program lalu kemabalikan nilai text. kita \\nmembuat sebuah variabel baru untuk menampung fungsi dari scrub_word dan melkaukan \\nperulangan fungsi scrub_word kedalam data kita.\\n\\n'"
            ],
            "application/vnd.google.colaboratory.intrinsic+json": {
              "type": "string"
            }
          },
          "metadata": {},
          "execution_count": 17
        }
      ]
    },
    {
      "cell_type": "code",
      "source": [
        "emot1={\":)\":\"smile\",\":(\":\"sad\",\":*\":\"kiss\",\":'(\":\"cry\",\"<3\":\"love\"}\n",
        "\n",
        "emots = \":) :( :* :'( <3\"\n",
        "normalisation = []\n",
        "for x  in emots.split():\n",
        "  normalisation.append(emot1[x])\n",
        "print(normalisation)\n",
        "\"\"\"\n",
        "dalam program ini kita mengubah emoto mendjadi sebuah kata dengan\n",
        "menggunakan normalization untuk mengubah setiap emote menjadi emosi kata\n",
        "\"\"\""
      ],
      "metadata": {
        "id": "au-5_cdkiMR2",
        "colab": {
          "base_uri": "https://localhost:8080/",
          "height": 52
        },
        "outputId": "33b398e7-3c20-4c88-dfbe-0177278b9488"
      },
      "execution_count": null,
      "outputs": [
        {
          "output_type": "stream",
          "name": "stdout",
          "text": [
            "['smile', 'sad', 'kiss', 'cry', 'love']\n"
          ]
        },
        {
          "output_type": "execute_result",
          "data": {
            "text/plain": [
              "'\\ndalam program ini kita mengubah emoto mendjadi sebuah kata dengan \\nmenggunakan normalization untuk mengubah setiap emote menjadi emosi kata\\n'"
            ],
            "application/vnd.google.colaboratory.intrinsic+json": {
              "type": "string"
            }
          },
          "metadata": {},
          "execution_count": 18
        }
      ]
    },
    {
      "cell_type": "markdown",
      "source": [
        "Normmo 9\n",
        "- nomor 2\n",
        "\n",
        "  memmbuat program untuk memperbaiki sebauh kalimat menjadi kata dasar dan huruf kecil.\n",
        "\n",
        "- nomor 3\n",
        "\n",
        "  membuat setiap kata yang huruf kapital menjadi sebuah huruf kapital.\n",
        "\n",
        "- nomor 4\n",
        "  membuat setiap kata imbuan menjadi huruf kata dasar\n",
        "\n",
        "- nomor 5\n",
        "\n",
        "  membandingkan Lemmatization dengan Plural lemmatization dan melihat hasil nya, dimana untuk lemmatization mengubah kata imbuan menjadi kata  dasar. dan Plural lemmatization untuk mengubah kata jamak menjadi kata dasar\n",
        "\n",
        "- nomor 6\n",
        "\n",
        "  membuat program untuk menghapus kata yang stopword yang berada di kata asli\n",
        "\n",
        "- nomor 7\n",
        "\n",
        "  dalam program ini kita membuat sebuah program untuk menghapus  noise yang ada.\n",
        "\n",
        "- nomor 8\n",
        "\n",
        "  dalam menggunakan program untuk membuat emote menjadi sebuah kata sifat\n",
        "\n",
        "  \n",
        "\n"
      ],
      "metadata": {
        "id": "-O3OIdOOqlhX"
      }
    },
    {
      "cell_type": "code",
      "source": [
        "emot1={\":)\":\"smile\",\":(\":\"sad\",\":*\":\"kiss\",\":'(\":\"cry\",\"<3\":\"love\"}\n",
        "sample = \"i <3 you :)\"\n",
        "emots = \":) :( :* :'( <3\"\n",
        "words = text.split(\" \")\n",
        "shortlisted_word = []\n",
        "\n",
        "temp = sample.split(\" \")\n",
        "result = []\n",
        "for x in temp:\n",
        "  if x not in emot1:\n",
        "    result.append(x)\n",
        "  else:\n",
        "    result.append(emot1[x])\n",
        "\n",
        "print(\" \".join(result))\n",
        "# for x in words:\n",
        "#   if x not in emot1:\n",
        "#     shortlisted_word.append(x)\n",
        "#   else :\n",
        "#     shortlisted_word.append(\"X\")\n",
        "#     print(\"kalimat asli =\",emots)\n",
        "#     print(\"kalimat dengan  menghilangkan stop words = \",' '.join(shortlisted_word))\n",
        "\n"
      ],
      "metadata": {
        "id": "sqre2P-Dj5PQ",
        "colab": {
          "base_uri": "https://localhost:8080/"
        },
        "outputId": "93c7449f-bbee-4d2b-fb7a-89a68851dc93"
      },
      "execution_count": null,
      "outputs": [
        {
          "output_type": "stream",
          "name": "stdout",
          "text": [
            "i love you smile\n"
          ]
        }
      ]
    },
    {
      "cell_type": "code",
      "source": [
        "!pip install PySastrawi\n"
      ],
      "metadata": {
        "colab": {
          "base_uri": "https://localhost:8080/"
        },
        "id": "XwOz3Wiz4R2d",
        "outputId": "48ef3809-d2eb-4230-9da8-4db0bd2243a6"
      },
      "execution_count": null,
      "outputs": [
        {
          "output_type": "stream",
          "name": "stdout",
          "text": [
            "Looking in indexes: https://pypi.org/simple, https://us-python.pkg.dev/colab-wheels/public/simple/\n",
            "Collecting PySastrawi\n",
            "  Downloading PySastrawi-1.2.0-py2.py3-none-any.whl (210 kB)\n",
            "\u001b[K     |████████████████████████████████| 210 kB 7.8 MB/s \n",
            "\u001b[?25hInstalling collected packages: PySastrawi\n",
            "Successfully installed PySastrawi-1.2.0\n"
          ]
        }
      ]
    },
    {
      "cell_type": "code",
      "source": [
        "from Sastrawi.Stemmer.StemmerFactory import StemmerFactory"
      ],
      "metadata": {
        "id": "sBP2ixcx4BYw"
      },
      "execution_count": null,
      "outputs": []
    },
    {
      "cell_type": "code",
      "source": [
        "factory = StemmerFactory()\n",
        "stemmer = factory.create_stemmer()"
      ],
      "metadata": {
        "id": "Wtaz9lOA61Ne"
      },
      "execution_count": null,
      "outputs": []
    },
    {
      "cell_type": "code",
      "source": [
        "teks = 'Pemrosesan bahasa alami, disingkat PBA atau NLP (natural language processing), adalah cabang ilmu komputer dan linguistik yang mengkaji interaksi antara komputer dengan bahasa (alami) manusia. NLP sering dianggap sebagai cabang dari kecerdasan buatan dan bidang kajiannya bersinggungan dengan linguistik komputasional. Kajian NLP antara lain mencakup segmentasi tuturan (speech segmentation), segmentasi teks (text segmentation), penandaan kelas kata (part-of-speech tagging), serta pengawataksaan makna (word sense disambiguation). Meskipun kajiannya dapat mencakup teks dan tuturan, pemrosesan tuturan (speech processing) telah berkembang menjadi suatu bidang kajian terpisah.'"
      ],
      "metadata": {
        "id": "HO1y3Tl86ZPe"
      },
      "execution_count": null,
      "outputs": []
    },
    {
      "cell_type": "code",
      "source": [
        "tks = stemmer.stem(teks)\n",
        "print(tks)"
      ],
      "metadata": {
        "colab": {
          "base_uri": "https://localhost:8080/"
        },
        "id": "Vsv6IB936twm",
        "outputId": "1f1cf9e2-cbac-46d7-8702-0e62f152de97"
      },
      "execution_count": null,
      "outputs": [
        {
          "output_type": "stream",
          "name": "stdout",
          "text": [
            "pemrosesan bahasa alami singkat pba atau nlp natural language processing adalah cabang ilmu komputer dan linguistik yang kaji interaksi antara komputer dengan bahasa alami manusia nlp sering anggap bagai cabang dari cerdas buat dan bidang kaji singgung dengan linguistik komputasional kaji nlp antara lain cakup segmentasi tutur speech segmentation segmentasi teks text segmentation tanda kelas kata part-of-speech tagging serta pengawataksaan makna word sense disambiguation meski kaji dapat cakup teks dan tutur pemrosesan tutur speech processing telah kembang jadi suatu bidang kaji pisah\n"
          ]
        }
      ]
    },
    {
      "cell_type": "markdown",
      "source": [
        "11 menggunakan scraping dari modul 2 nomor 10"
      ],
      "metadata": {
        "id": "f6H5tDgZM-NS"
      }
    },
    {
      "cell_type": "code",
      "source": [
        "import csv\n",
        "\n",
        "with open('/content/drive/MyDrive/USD /pemrolehan informasi/Makapai.csv') as csv_file:\n",
        "  csv_reader = csv.reader(csv_file, delimiter=\",\")\n",
        "  print(csv_reader)\n",
        "  for row in csv_reader:\n",
        "    print(row)"
      ],
      "metadata": {
        "id": "LTHMRO_eM9aA",
        "colab": {
          "base_uri": "https://localhost:8080/"
        },
        "outputId": "1b9b7b98-21cf-4874-fddc-3513de322203"
      },
      "execution_count": null,
      "outputs": [
        {
          "output_type": "stream",
          "name": "stdout",
          "text": [
            "<_csv.reader object at 0x7fe81147ea50>\n",
            "['', 'Jadwal', 'Harga']\n",
            "['0', 'Garuda Indonesia', 'IDR 1.156.320']\n",
            "['1', 'Garuda Indonesia', 'IDR 1.156.320']\n",
            "['2', 'Garuda Indonesia', 'IDR 1.156.320']\n",
            "['3', 'Garuda Indonesia', 'IDR 1.156.320']\n",
            "['4', 'Garuda Indonesia', 'IDR 1.156.320']\n",
            "['5', 'Garuda Indonesia', 'IDR 1.379.220']\n",
            "['6', 'Garuda Indonesia', 'IDR 1.161.220']\n",
            "['7', 'Garuda Indonesia', 'IDR 1.161.220']\n",
            "['8', 'Garuda Indonesia', 'IDR 1.161.220']\n",
            "['9', 'Garuda Indonesia', 'IDR 1.161.220']\n",
            "['10', 'Garuda Indonesia', 'IDR 1.161.220']\n"
          ]
        }
      ]
    },
    {
      "cell_type": "code",
      "source": [
        "import pandas  as pa\n",
        "table = pa.read_csv(\"/content/drive/MyDrive/USD /pemrolehan informasi/Makapai.csv\")\n",
        "\n",
        "tugas = table['Jadwal']\n",
        "for tables in tugas:\n",
        "  print(tables)\n",
        "  teks = stemmer.stem(tables)\n",
        "  print(teks + \"\\n\")"
      ],
      "metadata": {
        "colab": {
          "base_uri": "https://localhost:8080/"
        },
        "id": "StZzYt8PP2ym",
        "outputId": "09fe5ac5-c90f-40c4-f57c-2ce554cbcff6"
      },
      "execution_count": null,
      "outputs": [
        {
          "output_type": "stream",
          "name": "stdout",
          "text": [
            "Garuda Indonesia\n",
            "garuda indonesia\n",
            "\n",
            "Garuda Indonesia\n",
            "garuda indonesia\n",
            "\n",
            "Garuda Indonesia\n",
            "garuda indonesia\n",
            "\n",
            "Garuda Indonesia\n",
            "garuda indonesia\n",
            "\n",
            "Garuda Indonesia\n",
            "garuda indonesia\n",
            "\n",
            "Garuda Indonesia\n",
            "garuda indonesia\n",
            "\n",
            "Garuda Indonesia\n",
            "garuda indonesia\n",
            "\n",
            "Garuda Indonesia\n",
            "garuda indonesia\n",
            "\n",
            "Garuda Indonesia\n",
            "garuda indonesia\n",
            "\n",
            "Garuda Indonesia\n",
            "garuda indonesia\n",
            "\n",
            "Garuda Indonesia\n",
            "garuda indonesia\n",
            "\n"
          ]
        }
      ]
    },
    {
      "cell_type": "markdown",
      "source": [],
      "metadata": {
        "id": "bwiYVeWf3Sl4"
      }
    },
    {
      "cell_type": "code",
      "source": [
        "from Sastrawi.Stemmer.StemmerFactory import StemmerFactory\n",
        "import nltk\n",
        "import pandas  as pa\n",
        "from  nltk.tokenize import sent_tokenize, \\\n",
        "word_tokenize, WordPunctTokenizer"
      ],
      "metadata": {
        "id": "43o7YWXa2yJ9"
      },
      "execution_count": null,
      "outputs": []
    },
    {
      "cell_type": "code",
      "source": [
        "import pandas  as pa\n",
        "table = pa.read_csv(\"/content/drive/MyDrive/USD /pemrolehan informasi/amazon.csv\")\n",
        "tugas = table['judul']\n",
        "table"
      ],
      "metadata": {
        "id": "TRj7Sgcf0urP"
      },
      "execution_count": null,
      "outputs": []
    },
    {
      "cell_type": "code",
      "source": [
        "tugas = table['judul']\n",
        "for tables in tugas:\n",
        "  print(tables)\n",
        "  teks = stemmer.stem(tables)\n",
        "  print(word_tokenize(teks))\n",
        "  print(teks + \"\\n\")"
      ],
      "metadata": {
        "colab": {
          "base_uri": "https://localhost:8080/"
        },
        "id": "JvggNJgC1DXk",
        "outputId": "2db9dff4-e0a1-4bbb-acac-681b97c37a00"
      },
      "execution_count": null,
      "outputs": [
        {
          "output_type": "stream",
          "name": "stdout",
          "text": [
            "Bringing Tap to Alexa to more devices and adding new functionality\n",
            "['bringing', 'tap', 'to', 'alexa', 'to', 'more', 'devices', 'and', 'adding', 'new', 'functionality']\n",
            "bringing tap to alexa to more devices and adding new functionality\n",
            "\n",
            "Innovating alongside customers\n",
            "['innovating', 'alongside', 'customers']\n",
            "innovating alongside customers\n",
            "\n"
          ]
        }
      ]
    }
  ]
}