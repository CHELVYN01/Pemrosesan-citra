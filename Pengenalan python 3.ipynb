{
  "nbformat": 4,
  "nbformat_minor": 0,
  "metadata": {
    "colab": {
      "provenance": [],
      "include_colab_link": true
    },
    "kernelspec": {
      "name": "python3",
      "display_name": "Python 3"
    },
    "language_info": {
      "name": "python"
    }
  },
  "cells": [
    {
      "cell_type": "markdown",
      "metadata": {
        "id": "view-in-github",
        "colab_type": "text"
      },
      "source": [
        "<a href=\"https://colab.research.google.com/github/CHELVYN01/Tugas-python-USD/blob/main/Pengenalan%20python%203.ipynb\" target=\"_parent\"><img src=\"https://colab.research.google.com/assets/colab-badge.svg\" alt=\"Open In Colab\"/></a>"
      ]
    },
    {
      "cell_type": "markdown",
      "source": [
        "Pemrolehan Informasi  \n",
        "Modul 3\n",
        "\n",
        "---\n",
        "A. Tujuan\n",
        "- Mahasiswa mampu membuat program sederhana menggunakan python\n",
        "- mahasiswa mampu melakukan  pengelolahan data teks menggunaakan pustaka nltk dan  sastrawi .\n"
      ],
      "metadata": {
        "id": "2-vzVgS_EB7n"
      }
    },
    {
      "cell_type": "markdown",
      "source": [
        "B. Praktikum"
      ],
      "metadata": {
        "id": "brOeOZe4EqDQ"
      }
    },
    {
      "cell_type": "markdown",
      "source": [
        "Import"
      ],
      "metadata": {
        "id": "FBlNbLEVE5W9"
      }
    },
    {
      "cell_type": "code",
      "execution_count": null,
      "metadata": {
        "colab": {
          "base_uri": "https://localhost:8080/"
        },
        "id": "pHPbPkJsD7TD",
        "outputId": "b35d71f5-30ad-4580-b799-8243d20d1cb1"
      },
      "outputs": [
        {
          "output_type": "stream",
          "name": "stdout",
          "text": [
            "Looking in indexes: https://pypi.org/simple, https://us-python.pkg.dev/colab-wheels/public/simple/\n",
            "Collecting PySastrawi\n",
            "  Downloading PySastrawi-1.2.0-py2.py3-none-any.whl (210 kB)\n",
            "\u001b[K     |████████████████████████████████| 210 kB 5.0 MB/s \n",
            "\u001b[?25hInstalling collected packages: PySastrawi\n",
            "Successfully installed PySastrawi-1.2.0\n",
            "Looking in indexes: https://pypi.org/simple, https://us-python.pkg.dev/colab-wheels/public/simple/\n",
            "Requirement already satisfied: nltk in /usr/local/lib/python3.7/dist-packages (3.7)\n",
            "Requirement already satisfied: tqdm in /usr/local/lib/python3.7/dist-packages (from nltk) (4.64.1)\n",
            "Requirement already satisfied: click in /usr/local/lib/python3.7/dist-packages (from nltk) (7.1.2)\n",
            "Requirement already satisfied: regex>=2021.8.3 in /usr/local/lib/python3.7/dist-packages (from nltk) (2022.6.2)\n",
            "Requirement already satisfied: joblib in /usr/local/lib/python3.7/dist-packages (from nltk) (1.1.0)\n"
          ]
        }
      ],
      "source": [
        "!pip install PySastrawi\n",
        "!pip install nltk"
      ]
    },
    {
      "cell_type": "code",
      "source": [
        "from Sastrawi.Stemmer.StemmerFactory import StemmerFactory\n",
        "import nltk\n",
        "from  nltk.tokenize import sent_tokenize, \\\n",
        "word_tokenize, WordPunctTokenizer"
      ],
      "metadata": {
        "id": "8vQ-cHrNGdeM"
      },
      "execution_count": null,
      "outputs": []
    },
    {
      "cell_type": "code",
      "source": [
        "nltk.download('punkt')"
      ],
      "metadata": {
        "id": "iUGVhl6YR28o",
        "colab": {
          "base_uri": "https://localhost:8080/"
        },
        "outputId": "54bd93b4-ca50-4c91-bfb6-b9583251e4ef"
      },
      "execution_count": null,
      "outputs": [
        {
          "output_type": "stream",
          "name": "stderr",
          "text": [
            "[nltk_data] Downloading package punkt to /root/nltk_data...\n",
            "[nltk_data]   Unzipping tokenizers/punkt.zip.\n"
          ]
        },
        {
          "output_type": "execute_result",
          "data": {
            "text/plain": [
              "True"
            ]
          },
          "metadata": {},
          "execution_count": 4
        }
      ]
    },
    {
      "cell_type": "markdown",
      "source": [
        "2. penghilangan awalan dan akhiran"
      ],
      "metadata": {
        "id": "s-3mgmqUKg6o"
      }
    },
    {
      "cell_type": "code",
      "source": [
        "factory = StemmerFactory()\n",
        "stemmer = factory.create_stemmer()"
      ],
      "metadata": {
        "id": "glKeP8k6Oejk"
      },
      "execution_count": null,
      "outputs": []
    },
    {
      "cell_type": "code",
      "source": [
        "teks ='pertemanan! DiTemaNkAn beRtEman'"
      ],
      "metadata": {
        "id": "uIHac-wrKno_"
      },
      "execution_count": null,
      "outputs": []
    },
    {
      "cell_type": "code",
      "source": [
        "sentence = stemmer.stem(teks)\n",
        "print(sentence)"
      ],
      "metadata": {
        "colab": {
          "base_uri": "https://localhost:8080/"
        },
        "id": "oWljT9UYLpcN",
        "outputId": "84c1dadf-888c-4910-9d8d-1d5a9f0805a2"
      },
      "execution_count": null,
      "outputs": [
        {
          "output_type": "stream",
          "name": "stdout",
          "text": [
            "teman teman teman\n"
          ]
        }
      ]
    },
    {
      "cell_type": "markdown",
      "source": [
        "Penjelasan\n",
        "\n",
        "---\n",
        "Pada kasus ini kita menggunakan library Sastrawai untuk menjalankan program.\n",
        "dalam library ini terdapat sebuah  method stem() yang mana  method ini bisa menormalisasi sebua  kalimat yang memiliki kata  bantu jadi kasus ini kita  akan mengubah sebuah kata 'pertemanan! DiTemaNkAn beRtEman' menjadi  \n",
        "'teman teman teman'\n"
      ],
      "metadata": {
        "id": "2xeAQIvtNv6k"
      }
    },
    {
      "cell_type": "markdown",
      "source": [
        "3 jalanan program Sastrawi"
      ],
      "metadata": {
        "id": "orO4q3xmKZWB"
      }
    },
    {
      "cell_type": "markdown",
      "source": [
        "Membuat  Stemmer"
      ],
      "metadata": {
        "id": "jl82-nxKGleB"
      }
    },
    {
      "cell_type": "code",
      "source": [
        "factory = StemmerFactory()\n",
        "stemmer = factory.create_stemmer()"
      ],
      "metadata": {
        "id": "uA8V07qRGjbn"
      },
      "execution_count": null,
      "outputs": []
    },
    {
      "cell_type": "markdown",
      "source": [
        "Input data"
      ],
      "metadata": {
        "id": "n2sMRJuQHNMQ"
      }
    },
    {
      "cell_type": "code",
      "source": [
        "teks = 'Pemrosesan bahasa alami, disingkat PBA atau NLP (natural language processing), adalah cabang ilmu komputer dan linguistik yang mengkaji interaksi antara komputer dengan bahasa (alami) manusia. NLP sering dianggap sebagai cabang dari kecerdasan buatan dan bidang kajiannya bersinggungan dengan linguistik komputasional. Kajian NLP antara lain mencakup segmentasi tuturan (speech segmentation), segmentasi teks (text segmentation), penandaan kelas kata (part-of-speech tagging), serta pengawataksaan makna (word sense disambiguation). Meskipun kajiannya dapat mencakup teks dan tuturan, pemrosesan tuturan (speech processing) telah berkembang menjadi suatu bidang kajian terpisah.'"
      ],
      "metadata": {
        "id": "LpoACCU8HP47"
      },
      "execution_count": null,
      "outputs": []
    },
    {
      "cell_type": "markdown",
      "source": [
        "Preprocessing"
      ],
      "metadata": {
        "id": "_MMvF5gyH2KK"
      }
    },
    {
      "cell_type": "code",
      "source": [
        "tks = stemmer.stem(teks)\n",
        "print(tks)"
      ],
      "metadata": {
        "id": "Er6qGxniH56o",
        "colab": {
          "base_uri": "https://localhost:8080/"
        },
        "outputId": "6cce7230-d65c-4cad-df08-c5ba48a43593"
      },
      "execution_count": null,
      "outputs": [
        {
          "output_type": "stream",
          "name": "stdout",
          "text": [
            "pemrosesan bahasa alami singkat pba atau nlp natural language processing adalah cabang ilmu komputer dan linguistik yang kaji interaksi antara komputer dengan bahasa alami manusia nlp sering anggap bagai cabang dari cerdas buat dan bidang kaji singgung dengan linguistik komputasional kaji nlp antara lain cakup segmentasi tutur speech segmentation segmentasi teks text segmentation tanda kelas kata part-of-speech tagging serta pengawataksaan makna word sense disambiguation meski kaji dapat cakup teks dan tutur pemrosesan tutur speech processing telah kembang jadi suatu bidang kaji pisah\n"
          ]
        }
      ]
    },
    {
      "cell_type": "markdown",
      "source": [
        "Tugas 4"
      ],
      "metadata": {
        "id": "I2Os56YtO5yu"
      }
    },
    {
      "cell_type": "code",
      "source": [
        "input_text = \"Do you know how tokenization works? It’s actually quite interesting! Let’s analyze a couple of sentences and figure it out.\""
      ],
      "metadata": {
        "id": "6XWg3uWkSEgI"
      },
      "execution_count": null,
      "outputs": []
    },
    {
      "cell_type": "markdown",
      "source": [
        "cetak tokenisai kalimat"
      ],
      "metadata": {
        "id": "wtI_XOYhTkq7"
      }
    },
    {
      "cell_type": "code",
      "source": [
        "print(\"\\sentence tokonizer :\")\n",
        "print(sent_tokenize(input_text))"
      ],
      "metadata": {
        "id": "kP5_t7C_SZ4q",
        "colab": {
          "base_uri": "https://localhost:8080/"
        },
        "outputId": "d6d0c392-9e5a-4941-d904-09a5d1139b08"
      },
      "execution_count": null,
      "outputs": [
        {
          "output_type": "stream",
          "name": "stdout",
          "text": [
            "\\sentence tokonizer :\n",
            "['Do you know how tokenization works?', 'It’s actually quite interesting!', 'Let’s analyze a couple of sentences and figure it out.']\n"
          ]
        }
      ]
    },
    {
      "cell_type": "markdown",
      "source": [
        "cetak tokenisai kata"
      ],
      "metadata": {
        "id": "mXryiTwzTtIi"
      }
    },
    {
      "cell_type": "code",
      "source": [
        "print(\"\\sentence tokonizer :\")\n",
        "print(word_tokenize(input_text))"
      ],
      "metadata": {
        "id": "oBmaAzgUTuGx",
        "colab": {
          "base_uri": "https://localhost:8080/"
        },
        "outputId": "af987743-f9f6-4ad4-8bf6-2623ebdff28c"
      },
      "execution_count": null,
      "outputs": [
        {
          "output_type": "stream",
          "name": "stdout",
          "text": [
            "\\sentence tokonizer :\n",
            "['Do', 'you', 'know', 'how', 'tokenization', 'works', '?', 'It', '’', 's', 'actually', 'quite', 'interesting', '!', 'Let', '’', 's', 'analyze', 'a', 'couple', 'of', 'sentences', 'and', 'figure', 'it', 'out', '.']\n"
          ]
        }
      ]
    },
    {
      "cell_type": "markdown",
      "source": [
        "tugas 5"
      ],
      "metadata": {
        "id": "DFvZuTjvYf2L"
      }
    },
    {
      "cell_type": "code",
      "source": [
        "import csv\n",
        "\n",
        "with open('/content/drive/MyDrive/USD /pemrolehan informasi/Makapai.csv') as csv_file:\n",
        "  csv_reader = csv.reader(csv_file, delimiter=\",\")\n",
        "  print(csv_reader)\n",
        "  for row in csv_reader:\n",
        "    print(row)"
      ],
      "metadata": {
        "id": "M3W0jLdNYhqz",
        "colab": {
          "base_uri": "https://localhost:8080/"
        },
        "outputId": "6f81438d-1e9e-44e5-9ca1-dca79a093d5a"
      },
      "execution_count": null,
      "outputs": [
        {
          "output_type": "stream",
          "name": "stdout",
          "text": [
            "<_csv.reader object at 0x7fd3476107d0>\n",
            "['', 'Jadwal', 'Harga']\n",
            "['0', 'Garuda Indonesia', 'IDR 1.156.320']\n",
            "['1', 'Garuda Indonesia', 'IDR 1.156.320']\n",
            "['2', 'Garuda Indonesia', 'IDR 1.156.320']\n",
            "['3', 'Garuda Indonesia', 'IDR 1.156.320']\n",
            "['4', 'Garuda Indonesia', 'IDR 1.156.320']\n",
            "['5', 'Garuda Indonesia', 'IDR 1.379.220']\n",
            "['6', 'Garuda Indonesia', 'IDR 1.161.220']\n",
            "['7', 'Garuda Indonesia', 'IDR 1.161.220']\n",
            "['8', 'Garuda Indonesia', 'IDR 1.161.220']\n",
            "['9', 'Garuda Indonesia', 'IDR 1.161.220']\n",
            "['10', 'Garuda Indonesia', 'IDR 1.161.220']\n"
          ]
        }
      ]
    },
    {
      "cell_type": "code",
      "source": [
        "from google.colab import drive\n",
        "drive.mount('/content/drive')"
      ],
      "metadata": {
        "id": "Xf-8c_xHOP5Y",
        "colab": {
          "base_uri": "https://localhost:8080/"
        },
        "outputId": "d9af7268-411b-43db-fcf9-7f3f8e643fde"
      },
      "execution_count": null,
      "outputs": [
        {
          "output_type": "stream",
          "name": "stdout",
          "text": [
            "Mounted at /content/drive\n"
          ]
        }
      ]
    },
    {
      "cell_type": "code",
      "source": [
        "import pandas  as pa\n",
        "table = pa.read_csv(\"/content/drive/MyDrive/USD /pemrolehan informasi/Makapai.csv\")\n",
        "table"
      ],
      "metadata": {
        "id": "_7iCioCAjiM9",
        "colab": {
          "base_uri": "https://localhost:8080/",
          "height": 394
        },
        "outputId": "5a5a9ddf-4c1f-4925-ed44-f2db7395f442"
      },
      "execution_count": null,
      "outputs": [
        {
          "output_type": "execute_result",
          "data": {
            "text/plain": [
              "    Unnamed: 0            Jadwal          Harga\n",
              "0            0  Garuda Indonesia  IDR 1.156.320\n",
              "1            1  Garuda Indonesia  IDR 1.156.320\n",
              "2            2  Garuda Indonesia  IDR 1.156.320\n",
              "3            3  Garuda Indonesia  IDR 1.156.320\n",
              "4            4  Garuda Indonesia  IDR 1.156.320\n",
              "5            5  Garuda Indonesia  IDR 1.379.220\n",
              "6            6  Garuda Indonesia  IDR 1.161.220\n",
              "7            7  Garuda Indonesia  IDR 1.161.220\n",
              "8            8  Garuda Indonesia  IDR 1.161.220\n",
              "9            9  Garuda Indonesia  IDR 1.161.220\n",
              "10          10  Garuda Indonesia  IDR 1.161.220"
            ],
            "text/html": [
              "\n",
              "  <div id=\"df-10729b77-054f-45e3-b0ca-70828892f36d\">\n",
              "    <div class=\"colab-df-container\">\n",
              "      <div>\n",
              "<style scoped>\n",
              "    .dataframe tbody tr th:only-of-type {\n",
              "        vertical-align: middle;\n",
              "    }\n",
              "\n",
              "    .dataframe tbody tr th {\n",
              "        vertical-align: top;\n",
              "    }\n",
              "\n",
              "    .dataframe thead th {\n",
              "        text-align: right;\n",
              "    }\n",
              "</style>\n",
              "<table border=\"1\" class=\"dataframe\">\n",
              "  <thead>\n",
              "    <tr style=\"text-align: right;\">\n",
              "      <th></th>\n",
              "      <th>Unnamed: 0</th>\n",
              "      <th>Jadwal</th>\n",
              "      <th>Harga</th>\n",
              "    </tr>\n",
              "  </thead>\n",
              "  <tbody>\n",
              "    <tr>\n",
              "      <th>0</th>\n",
              "      <td>0</td>\n",
              "      <td>Garuda Indonesia</td>\n",
              "      <td>IDR 1.156.320</td>\n",
              "    </tr>\n",
              "    <tr>\n",
              "      <th>1</th>\n",
              "      <td>1</td>\n",
              "      <td>Garuda Indonesia</td>\n",
              "      <td>IDR 1.156.320</td>\n",
              "    </tr>\n",
              "    <tr>\n",
              "      <th>2</th>\n",
              "      <td>2</td>\n",
              "      <td>Garuda Indonesia</td>\n",
              "      <td>IDR 1.156.320</td>\n",
              "    </tr>\n",
              "    <tr>\n",
              "      <th>3</th>\n",
              "      <td>3</td>\n",
              "      <td>Garuda Indonesia</td>\n",
              "      <td>IDR 1.156.320</td>\n",
              "    </tr>\n",
              "    <tr>\n",
              "      <th>4</th>\n",
              "      <td>4</td>\n",
              "      <td>Garuda Indonesia</td>\n",
              "      <td>IDR 1.156.320</td>\n",
              "    </tr>\n",
              "    <tr>\n",
              "      <th>5</th>\n",
              "      <td>5</td>\n",
              "      <td>Garuda Indonesia</td>\n",
              "      <td>IDR 1.379.220</td>\n",
              "    </tr>\n",
              "    <tr>\n",
              "      <th>6</th>\n",
              "      <td>6</td>\n",
              "      <td>Garuda Indonesia</td>\n",
              "      <td>IDR 1.161.220</td>\n",
              "    </tr>\n",
              "    <tr>\n",
              "      <th>7</th>\n",
              "      <td>7</td>\n",
              "      <td>Garuda Indonesia</td>\n",
              "      <td>IDR 1.161.220</td>\n",
              "    </tr>\n",
              "    <tr>\n",
              "      <th>8</th>\n",
              "      <td>8</td>\n",
              "      <td>Garuda Indonesia</td>\n",
              "      <td>IDR 1.161.220</td>\n",
              "    </tr>\n",
              "    <tr>\n",
              "      <th>9</th>\n",
              "      <td>9</td>\n",
              "      <td>Garuda Indonesia</td>\n",
              "      <td>IDR 1.161.220</td>\n",
              "    </tr>\n",
              "    <tr>\n",
              "      <th>10</th>\n",
              "      <td>10</td>\n",
              "      <td>Garuda Indonesia</td>\n",
              "      <td>IDR 1.161.220</td>\n",
              "    </tr>\n",
              "  </tbody>\n",
              "</table>\n",
              "</div>\n",
              "      <button class=\"colab-df-convert\" onclick=\"convertToInteractive('df-10729b77-054f-45e3-b0ca-70828892f36d')\"\n",
              "              title=\"Convert this dataframe to an interactive table.\"\n",
              "              style=\"display:none;\">\n",
              "        \n",
              "  <svg xmlns=\"http://www.w3.org/2000/svg\" height=\"24px\"viewBox=\"0 0 24 24\"\n",
              "       width=\"24px\">\n",
              "    <path d=\"M0 0h24v24H0V0z\" fill=\"none\"/>\n",
              "    <path d=\"M18.56 5.44l.94 2.06.94-2.06 2.06-.94-2.06-.94-.94-2.06-.94 2.06-2.06.94zm-11 1L8.5 8.5l.94-2.06 2.06-.94-2.06-.94L8.5 2.5l-.94 2.06-2.06.94zm10 10l.94 2.06.94-2.06 2.06-.94-2.06-.94-.94-2.06-.94 2.06-2.06.94z\"/><path d=\"M17.41 7.96l-1.37-1.37c-.4-.4-.92-.59-1.43-.59-.52 0-1.04.2-1.43.59L10.3 9.45l-7.72 7.72c-.78.78-.78 2.05 0 2.83L4 21.41c.39.39.9.59 1.41.59.51 0 1.02-.2 1.41-.59l7.78-7.78 2.81-2.81c.8-.78.8-2.07 0-2.86zM5.41 20L4 18.59l7.72-7.72 1.47 1.35L5.41 20z\"/>\n",
              "  </svg>\n",
              "      </button>\n",
              "      \n",
              "  <style>\n",
              "    .colab-df-container {\n",
              "      display:flex;\n",
              "      flex-wrap:wrap;\n",
              "      gap: 12px;\n",
              "    }\n",
              "\n",
              "    .colab-df-convert {\n",
              "      background-color: #E8F0FE;\n",
              "      border: none;\n",
              "      border-radius: 50%;\n",
              "      cursor: pointer;\n",
              "      display: none;\n",
              "      fill: #1967D2;\n",
              "      height: 32px;\n",
              "      padding: 0 0 0 0;\n",
              "      width: 32px;\n",
              "    }\n",
              "\n",
              "    .colab-df-convert:hover {\n",
              "      background-color: #E2EBFA;\n",
              "      box-shadow: 0px 1px 2px rgba(60, 64, 67, 0.3), 0px 1px 3px 1px rgba(60, 64, 67, 0.15);\n",
              "      fill: #174EA6;\n",
              "    }\n",
              "\n",
              "    [theme=dark] .colab-df-convert {\n",
              "      background-color: #3B4455;\n",
              "      fill: #D2E3FC;\n",
              "    }\n",
              "\n",
              "    [theme=dark] .colab-df-convert:hover {\n",
              "      background-color: #434B5C;\n",
              "      box-shadow: 0px 1px 3px 1px rgba(0, 0, 0, 0.15);\n",
              "      filter: drop-shadow(0px 1px 2px rgba(0, 0, 0, 0.3));\n",
              "      fill: #FFFFFF;\n",
              "    }\n",
              "  </style>\n",
              "\n",
              "      <script>\n",
              "        const buttonEl =\n",
              "          document.querySelector('#df-10729b77-054f-45e3-b0ca-70828892f36d button.colab-df-convert');\n",
              "        buttonEl.style.display =\n",
              "          google.colab.kernel.accessAllowed ? 'block' : 'none';\n",
              "\n",
              "        async function convertToInteractive(key) {\n",
              "          const element = document.querySelector('#df-10729b77-054f-45e3-b0ca-70828892f36d');\n",
              "          const dataTable =\n",
              "            await google.colab.kernel.invokeFunction('convertToInteractive',\n",
              "                                                     [key], {});\n",
              "          if (!dataTable) return;\n",
              "\n",
              "          const docLinkHtml = 'Like what you see? Visit the ' +\n",
              "            '<a target=\"_blank\" href=https://colab.research.google.com/notebooks/data_table.ipynb>data table notebook</a>'\n",
              "            + ' to learn more about interactive tables.';\n",
              "          element.innerHTML = '';\n",
              "          dataTable['output_type'] = 'display_data';\n",
              "          await google.colab.output.renderOutput(dataTable, element);\n",
              "          const docLink = document.createElement('div');\n",
              "          docLink.innerHTML = docLinkHtml;\n",
              "          element.appendChild(docLink);\n",
              "        }\n",
              "      </script>\n",
              "    </div>\n",
              "  </div>\n",
              "  "
            ]
          },
          "metadata": {},
          "execution_count": 16
        }
      ]
    },
    {
      "cell_type": "code",
      "source": [
        "tugas = table['Jadwal']\n",
        "for tables in tugas:\n",
        "  print(tables)\n",
        "  teks = stemmer.stem(tables)\n",
        "  print(teks + \"\\n\")"
      ],
      "metadata": {
        "id": "Xre36yjmgy-9",
        "colab": {
          "base_uri": "https://localhost:8080/"
        },
        "outputId": "1f97c565-1ada-49d9-abba-1c7e6f1dc36b"
      },
      "execution_count": null,
      "outputs": [
        {
          "output_type": "stream",
          "name": "stdout",
          "text": [
            "Garuda Indonesia\n",
            "garuda indonesia\n",
            "\n",
            "Garuda Indonesia\n",
            "garuda indonesia\n",
            "\n",
            "Garuda Indonesia\n",
            "garuda indonesia\n",
            "\n",
            "Garuda Indonesia\n",
            "garuda indonesia\n",
            "\n",
            "Garuda Indonesia\n",
            "garuda indonesia\n",
            "\n",
            "Garuda Indonesia\n",
            "garuda indonesia\n",
            "\n",
            "Garuda Indonesia\n",
            "garuda indonesia\n",
            "\n",
            "Garuda Indonesia\n",
            "garuda indonesia\n",
            "\n",
            "Garuda Indonesia\n",
            "garuda indonesia\n",
            "\n",
            "Garuda Indonesia\n",
            "garuda indonesia\n",
            "\n",
            "Garuda Indonesia\n",
            "garuda indonesia\n",
            "\n"
          ]
        }
      ]
    },
    {
      "cell_type": "code",
      "source": [
        "import pandas  as pa\n",
        "table = pa.read_csv(\"/content/drive/MyDrive/USD /pemrolehan informasi/amazon.csv\")\n",
        "table"
      ],
      "metadata": {
        "id": "Yt07_P3YkKZr",
        "colab": {
          "base_uri": "https://localhost:8080/",
          "height": 112
        },
        "outputId": "0cd6871c-9ea1-4c80-bb35-36af7d5a1131"
      },
      "execution_count": null,
      "outputs": [
        {
          "output_type": "execute_result",
          "data": {
            "text/plain": [
              "   Unnamed: 0                                              judul\n",
              "0           0  Bringing Tap to Alexa to more devices and addi...\n",
              "1           1                     Innovating alongside customers"
            ],
            "text/html": [
              "\n",
              "  <div id=\"df-993282e3-e88f-4ac9-80f4-07d5f28f981d\">\n",
              "    <div class=\"colab-df-container\">\n",
              "      <div>\n",
              "<style scoped>\n",
              "    .dataframe tbody tr th:only-of-type {\n",
              "        vertical-align: middle;\n",
              "    }\n",
              "\n",
              "    .dataframe tbody tr th {\n",
              "        vertical-align: top;\n",
              "    }\n",
              "\n",
              "    .dataframe thead th {\n",
              "        text-align: right;\n",
              "    }\n",
              "</style>\n",
              "<table border=\"1\" class=\"dataframe\">\n",
              "  <thead>\n",
              "    <tr style=\"text-align: right;\">\n",
              "      <th></th>\n",
              "      <th>Unnamed: 0</th>\n",
              "      <th>judul</th>\n",
              "    </tr>\n",
              "  </thead>\n",
              "  <tbody>\n",
              "    <tr>\n",
              "      <th>0</th>\n",
              "      <td>0</td>\n",
              "      <td>Bringing Tap to Alexa to more devices and addi...</td>\n",
              "    </tr>\n",
              "    <tr>\n",
              "      <th>1</th>\n",
              "      <td>1</td>\n",
              "      <td>Innovating alongside customers</td>\n",
              "    </tr>\n",
              "  </tbody>\n",
              "</table>\n",
              "</div>\n",
              "      <button class=\"colab-df-convert\" onclick=\"convertToInteractive('df-993282e3-e88f-4ac9-80f4-07d5f28f981d')\"\n",
              "              title=\"Convert this dataframe to an interactive table.\"\n",
              "              style=\"display:none;\">\n",
              "        \n",
              "  <svg xmlns=\"http://www.w3.org/2000/svg\" height=\"24px\"viewBox=\"0 0 24 24\"\n",
              "       width=\"24px\">\n",
              "    <path d=\"M0 0h24v24H0V0z\" fill=\"none\"/>\n",
              "    <path d=\"M18.56 5.44l.94 2.06.94-2.06 2.06-.94-2.06-.94-.94-2.06-.94 2.06-2.06.94zm-11 1L8.5 8.5l.94-2.06 2.06-.94-2.06-.94L8.5 2.5l-.94 2.06-2.06.94zm10 10l.94 2.06.94-2.06 2.06-.94-2.06-.94-.94-2.06-.94 2.06-2.06.94z\"/><path d=\"M17.41 7.96l-1.37-1.37c-.4-.4-.92-.59-1.43-.59-.52 0-1.04.2-1.43.59L10.3 9.45l-7.72 7.72c-.78.78-.78 2.05 0 2.83L4 21.41c.39.39.9.59 1.41.59.51 0 1.02-.2 1.41-.59l7.78-7.78 2.81-2.81c.8-.78.8-2.07 0-2.86zM5.41 20L4 18.59l7.72-7.72 1.47 1.35L5.41 20z\"/>\n",
              "  </svg>\n",
              "      </button>\n",
              "      \n",
              "  <style>\n",
              "    .colab-df-container {\n",
              "      display:flex;\n",
              "      flex-wrap:wrap;\n",
              "      gap: 12px;\n",
              "    }\n",
              "\n",
              "    .colab-df-convert {\n",
              "      background-color: #E8F0FE;\n",
              "      border: none;\n",
              "      border-radius: 50%;\n",
              "      cursor: pointer;\n",
              "      display: none;\n",
              "      fill: #1967D2;\n",
              "      height: 32px;\n",
              "      padding: 0 0 0 0;\n",
              "      width: 32px;\n",
              "    }\n",
              "\n",
              "    .colab-df-convert:hover {\n",
              "      background-color: #E2EBFA;\n",
              "      box-shadow: 0px 1px 2px rgba(60, 64, 67, 0.3), 0px 1px 3px 1px rgba(60, 64, 67, 0.15);\n",
              "      fill: #174EA6;\n",
              "    }\n",
              "\n",
              "    [theme=dark] .colab-df-convert {\n",
              "      background-color: #3B4455;\n",
              "      fill: #D2E3FC;\n",
              "    }\n",
              "\n",
              "    [theme=dark] .colab-df-convert:hover {\n",
              "      background-color: #434B5C;\n",
              "      box-shadow: 0px 1px 3px 1px rgba(0, 0, 0, 0.15);\n",
              "      filter: drop-shadow(0px 1px 2px rgba(0, 0, 0, 0.3));\n",
              "      fill: #FFFFFF;\n",
              "    }\n",
              "  </style>\n",
              "\n",
              "      <script>\n",
              "        const buttonEl =\n",
              "          document.querySelector('#df-993282e3-e88f-4ac9-80f4-07d5f28f981d button.colab-df-convert');\n",
              "        buttonEl.style.display =\n",
              "          google.colab.kernel.accessAllowed ? 'block' : 'none';\n",
              "\n",
              "        async function convertToInteractive(key) {\n",
              "          const element = document.querySelector('#df-993282e3-e88f-4ac9-80f4-07d5f28f981d');\n",
              "          const dataTable =\n",
              "            await google.colab.kernel.invokeFunction('convertToInteractive',\n",
              "                                                     [key], {});\n",
              "          if (!dataTable) return;\n",
              "\n",
              "          const docLinkHtml = 'Like what you see? Visit the ' +\n",
              "            '<a target=\"_blank\" href=https://colab.research.google.com/notebooks/data_table.ipynb>data table notebook</a>'\n",
              "            + ' to learn more about interactive tables.';\n",
              "          element.innerHTML = '';\n",
              "          dataTable['output_type'] = 'display_data';\n",
              "          await google.colab.output.renderOutput(dataTable, element);\n",
              "          const docLink = document.createElement('div');\n",
              "          docLink.innerHTML = docLinkHtml;\n",
              "          element.appendChild(docLink);\n",
              "        }\n",
              "      </script>\n",
              "    </div>\n",
              "  </div>\n",
              "  "
            ]
          },
          "metadata": {},
          "execution_count": 18
        }
      ]
    },
    {
      "cell_type": "code",
      "source": [
        "tugas = table['judul']\n",
        "for tables in tugas:\n",
        "  print(tables)\n",
        "  teks = stemmer.stem(tables)\n",
        "  print(word_tokenize(teks))\n",
        "  print(teks + \"\\n\")"
      ],
      "metadata": {
        "id": "Co7PiV0ykKdP",
        "colab": {
          "base_uri": "https://localhost:8080/"
        },
        "outputId": "6011adcf-512c-47ba-8c66-8cc6386ee709"
      },
      "execution_count": null,
      "outputs": [
        {
          "output_type": "stream",
          "name": "stdout",
          "text": [
            "Bringing Tap to Alexa to more devices and adding new functionality\n",
            "['bringing', 'tap', 'to', 'alexa', 'to', 'more', 'devices', 'and', 'adding', 'new', 'functionality']\n",
            "bringing tap to alexa to more devices and adding new functionality\n",
            "\n",
            "Innovating alongside customers\n",
            "['innovating', 'alongside', 'customers']\n",
            "innovating alongside customers\n",
            "\n"
          ]
        }
      ]
    }
  ]
}